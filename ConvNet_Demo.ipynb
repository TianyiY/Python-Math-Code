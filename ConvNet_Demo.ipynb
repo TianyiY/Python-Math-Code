{
 "cells": [
  {
   "cell_type": "code",
   "execution_count": 2,
   "metadata": {
    "collapsed": false
   },
   "outputs": [
    {
     "name": "stdout",
     "output_type": "stream",
     "text": [
      "convolve：\n",
      "soble_x R G B\n",
      "soble_y R G B\n",
      "soble R G B\n",
      "prewitt_x R G B\n",
      "prewitt_y R G B\n",
      "prewitt R G B\n",
      "laplacian R G B\n",
      "laplacian2 R G B\n"
     ]
    }
   ],
   "source": [
    "#!/usr/bin/python\n",
    "#  -*- coding:utf-8 -*-\n",
    "\n",
    "import numpy as np\n",
    "import os\n",
    "from PIL import Image\n",
    "\n",
    "\n",
    "def convolve(image, weight):\n",
    "    height, width = image.shape\n",
    "    h, w = weight.shape\n",
    "    height_new = height - h + 1\n",
    "    width_new = width - w + 1\n",
    "    image_new = np.zeros((height_new, width_new), dtype=np.float)\n",
    "    for i in range(height_new):\n",
    "        for j in range(width_new):\n",
    "            image_new[i,j] = np.sum(image[i:i+h, j:j+w] * weight)\n",
    "    image_new = image_new.clip(0, 255)\n",
    "    image_new = np.rint(image_new).astype('uint8')\n",
    "    return image_new\n",
    "\n",
    "# image_new = 255 * (image_new - image_new.min()) / (image_new.max() - image_new.min())\n",
    "\n",
    "if __name__ == \"__main__\":\n",
    "    A = Image.open(\"lena.png\", 'r')\n",
    "    output_path = '.\\\\Pic\\\\'\n",
    "    if not os.path.exists(output_path):\n",
    "        os.mkdir(output_path)\n",
    "    a = np.array(A)\n",
    "    soble_x = np.array(([-1, 0, 1], [-2, 0, 2], [-1, 0, 1]))\n",
    "    soble_y = np.array(([-1, -2, -1], [0, 0, 0], [1, 2, 1]))\n",
    "    soble = np.array(([-1, -1, 0], [-1, 0, 1], [0, 1, 1]))\n",
    "    prewitt_x = np.array(([-1, 0, 1], [-1, 0, 1], [-1, 0, 1]))\n",
    "    prewitt_y = np.array(([-1, -1,-1], [0, 0, 0], [1, 1, 1]))\n",
    "    prewitt = np.array(([-2, -1, 0], [-1, 0, 1], [0, 1, 2]))\n",
    "    laplacian = np.array(([0, -1, 0], [-1, 4, -1], [0, -1, 0]))\n",
    "    laplacian2 = np.array(([-1, -1, -1], [-1, 8, -1], [-1, -1, -1]))\n",
    "    weight_list = ('soble_x', 'soble_y', 'soble', 'prewitt_x', 'prewitt_y', 'prewitt', 'laplacian', 'laplacian2')\n",
    "    print 'convolve：'\n",
    "    for weight in weight_list:\n",
    "        print weight, 'R',\n",
    "        R = convolve(a[:, :, 0], eval(weight))\n",
    "        print 'G',\n",
    "        G = convolve(a[:, :, 1], eval(weight))\n",
    "        print 'B'\n",
    "        B = convolve(a[:, :, 2], eval(weight))\n",
    "        I = 255 - np.stack((R, G, B), 2)\n",
    "        Image.fromarray(I).save(output_path + weight + '.png')"
   ]
  },
  {
   "cell_type": "code",
   "execution_count": null,
   "metadata": {
    "collapsed": true
   },
   "outputs": [],
   "source": []
  }
 ],
 "metadata": {
  "kernelspec": {
   "display_name": "Python 2",
   "language": "python",
   "name": "python2"
  },
  "language_info": {
   "codemirror_mode": {
    "name": "ipython",
    "version": 2
   },
   "file_extension": ".py",
   "mimetype": "text/x-python",
   "name": "python",
   "nbconvert_exporter": "python",
   "pygments_lexer": "ipython2",
   "version": "2.7.13"
  }
 },
 "nbformat": 4,
 "nbformat_minor": 2
}
